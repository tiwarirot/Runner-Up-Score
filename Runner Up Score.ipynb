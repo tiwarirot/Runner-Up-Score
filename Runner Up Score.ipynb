{
 "cells": [
  {
   "cell_type": "code",
   "execution_count": 6,
   "metadata": {},
   "outputs": [
    {
     "name": "stdout",
     "output_type": "stream",
     "text": [
      "10 20 4 45 99 56 77 88 100 230 53 78 90 92 12\n",
      "Runner up:  100\n"
     ]
    }
   ],
   "source": [
    "list1 = input().split()\n",
    "for i in range(0, len(list1)):\n",
    "    list1[i] = int(list1[i])\n",
    "mx=max(list1[0],list1[1])\n",
    "secondmax=min(list1[0],list1[1])\n",
    "n = len(list1)\n",
    "for i in range(2, n):\n",
    "    if list1[i] > mx:\n",
    "        secondmax=mx\n",
    "        mx = list1[i]\n",
    "    elif list1[i] > secondmax and mx!=list1[i]:\n",
    "        secondmax = list1[i]\n",
    "    else:\n",
    "        if secondmax == mx:\n",
    "            secondmax=list1[i]\n",
    "print(\"Runner up: \", str(secondmax))"
   ]
  },
  {
   "cell_type": "code",
   "execution_count": null,
   "metadata": {},
   "outputs": [],
   "source": []
  }
 ],
 "metadata": {
  "kernelspec": {
   "display_name": "Python 3",
   "language": "python",
   "name": "python3"
  },
  "language_info": {
   "codemirror_mode": {
    "name": "ipython",
    "version": 3
   },
   "file_extension": ".py",
   "mimetype": "text/x-python",
   "name": "python",
   "nbconvert_exporter": "python",
   "pygments_lexer": "ipython3",
   "version": "3.6.5"
  }
 },
 "nbformat": 4,
 "nbformat_minor": 2
}
